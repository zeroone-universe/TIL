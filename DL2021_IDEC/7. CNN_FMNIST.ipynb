{
 "cells": [
  {
   "cell_type": "markdown",
   "metadata": {},
   "source": [
    "## Lecture 7. CNN-FMNIST \n",
    "  (1) Fashion MNIST 데이터를 처리하는 CNN 모델을 만든다.\\\n",
    "  (2) 학습데이터에 대한 epoch에 따른 cross-entropy loss와 accuracy 그래프를 그린다.\\\n",
    "  (3) 테스트 데이터에 대한 인식률을 그린다."
   ]
  },
  {
   "cell_type": "markdown",
   "metadata": {},
   "source": [
    "Step 0. 설정"
   ]
  },
  {
   "cell_type": "code",
   "execution_count": 2,
   "metadata": {},
   "outputs": [],
   "source": [
    "import torch\n",
    "from torch import nn\n",
    "from torch.utils.data import Dataset, DataLoader\n",
    "\n",
    "from torchvision import datasets\n",
    "from torchvision.transforms import ToTensor\n",
    "import matplotlib.pyplot as plt\n",
    "import torch.nn.functional as F\n",
    "\n",
    "import random\n",
    "import numpy as np\n",
    "\n",
    "from utilities import EarlyStopping"
   ]
  },
  {
   "cell_type": "code",
   "execution_count": 3,
   "metadata": {},
   "outputs": [],
   "source": [
    "L_R = 1e-3\n",
    "BATCH_SIZE = 100\n",
    "EPOCHS = 30"
   ]
  },
  {
   "cell_type": "code",
   "execution_count": 4,
   "metadata": {},
   "outputs": [
    {
     "name": "stdout",
     "output_type": "stream",
     "text": [
      "You are using 'cuda' as a device.\n"
     ]
    }
   ],
   "source": [
    "if torch.cuda.is_available()==True:\n",
    "  DEVICE='cuda'\n",
    "else:\n",
    "  DEVICE='cpu'\n",
    "np.random.seed(0b011011)\n",
    "random.seed(0b011011)\n",
    "torch.manual_seed(0b011011)\n",
    "if DEVICE == 'cuda':\n",
    "  torch.cuda.manual_seed_all(0b011011)\n",
    "\n",
    "\n",
    "print(\"You are using '{}' as a device.\".format(DEVICE))"
   ]
  },
  {
   "cell_type": "markdown",
   "metadata": {
    "id": "KfoNt8n57hr9"
   },
   "source": [
    "Step 1. Data"
   ]
  },
  {
   "cell_type": "code",
   "execution_count": 5,
   "metadata": {
    "id": "xeWPrRdl7j2E"
   },
   "outputs": [
    {
     "name": "stdout",
     "output_type": "stream",
     "text": [
      "torch.Size([10000, 28, 28])\n"
     ]
    },
    {
     "name": "stderr",
     "output_type": "stream",
     "text": [
      "C:\\ProgramData\\Anaconda3\\envs\\pytorch_env\\lib\\site-packages\\torchvision\\datasets\\mnist.py:498: UserWarning: The given NumPy array is not writeable, and PyTorch does not support non-writeable tensors. This means you can write to the underlying (supposedly non-writeable) NumPy array using the tensor. You may want to copy the array to protect its data or make it writeable before converting it to a tensor. This type of warning will be suppressed for the rest of this program. (Triggered internally at  ..\\torch\\csrc\\utils\\tensor_numpy.cpp:180.)\n",
      "  return torch.from_numpy(parsed.astype(m[2], copy=False)).view(*s)\n"
     ]
    }
   ],
   "source": [
    "train_data = datasets.FashionMNIST(\n",
    "    root=\"F:\\Python_Codes\\Data_for_Practice\", \n",
    "    train=True, \n",
    "    download=True, \n",
    "    transform=ToTensor()\n",
    "    )\n",
    "\n",
    "\n",
    "\n",
    "test_data= datasets.FashionMNIST(\n",
    "    root=\"F:\\Python_Codes\\Data_for_Practice\", \n",
    "    train=False, \n",
    "    download=True, \n",
    "    transform=ToTensor()\n",
    "    )\n",
    "\n",
    "\n",
    "train_data, val_data=torch.utils.data.random_split(train_data, [50000,10000])\n",
    "\n",
    "print(test_data.data.size())"
   ]
  },
  {
   "cell_type": "code",
   "execution_count": 6,
   "metadata": {},
   "outputs": [],
   "source": [
    "train_dataloader =DataLoader(train_data, batch_size=BATCH_SIZE, shuffle=True)\n",
    "val_dataloader =DataLoader(val_data, batch_size=BATCH_SIZE, shuffle=False)\n",
    "test_dataloader =DataLoader(test_data, batch_size=BATCH_SIZE, shuffle=False)"
   ]
  },
  {
   "cell_type": "markdown",
   "metadata": {},
   "source": [
    "2. Model"
   ]
  },
  {
   "cell_type": "code",
   "execution_count": 7,
   "metadata": {},
   "outputs": [],
   "source": [
    "class CNN(nn.Module):\n",
    "#nn.Module을 서브클래스로 두면서 NN을 정의하고, __init__에서 NN layers을 초기화한다.\n",
    "\tdef __init__(self, drop_prob=0.5):\n",
    "\t\tself.drop_prob=drop_prob\n",
    "\t#init에서는 모델을 초기화하고, 모델 구조 정의가 이루어진다.\n",
    "\t\tsuper(CNN, self).__init__()\n",
    "\t\tself.conv1=nn.Sequential(\n",
    "            nn.Conv2d(1,32,kernel_size=3,stride=1,padding=1),\n",
    "\t\t\tnn.ReLU(),\n",
    "\t\t\tnn.MaxPool2d(2)\n",
    "        )\n",
    "\t\tself.conv2=nn.Sequential(\n",
    "\t\t\tnn.Conv2d(32,64,kernel_size=3,stride=1, padding=1),\n",
    "\t\t\tnn.ReLU(),\n",
    "\t\t\tnn.MaxPool2d(2)\n",
    "\t\t)\n",
    "\t\tself.conv3=nn.Sequential(\n",
    "\t\t\tnn.Conv2d(64,128,kernel_size=3,stride=1,padding=1),\n",
    "\t\t\tnn.ReLU(),\n",
    "\t\t\tnn.MaxPool2d(kernel_size=2, stride=2, padding=1)\n",
    "\t\t)\n",
    "\n",
    "\t\tself.fc1=nn.Sequential(\n",
    "\t\t\tnn.Linear(4*4*128,4*128),\n",
    "\t\t\tnn.ReLU(),\n",
    "\t\t\t#nn.Dropout(p=drop_prob)\n",
    "\t\t)\n",
    "\n",
    "\t\tself.fc2=nn.Sequential(\n",
    "\t\t\tnn.Linear(4*128,10)\n",
    "\t\t)\n",
    "\tdef forward(self, x):\n",
    "\t#forward에서는 실행 정의가 이루어진다. 즉 NN의 결과를 계산한다.\n",
    "\t\tx=self.conv1(x)\n",
    "\t\tx=self.conv2(x)\n",
    "\t\tx=self.conv3(x)\n",
    "\n",
    "\t\tx=x.view(x.size(0), -1)\n",
    "\t\tx=self.fc1(x)\n",
    "\t\tx=self.fc2(x)\n",
    "\t\treturn x\n",
    "\n",
    "\n",
    "model=CNN().to(DEVICE)"
   ]
  },
  {
   "cell_type": "markdown",
   "metadata": {},
   "source": [
    "Step 3 and 4. Loss Function and Optimization"
   ]
  },
  {
   "cell_type": "code",
   "execution_count": 8,
   "metadata": {},
   "outputs": [],
   "source": [
    "loss_fn=nn.CrossEntropyLoss().to(DEVICE)\n",
    "optimizer=torch.optim.Adam(model.parameters(),lr=L_R)"
   ]
  },
  {
   "cell_type": "markdown",
   "metadata": {},
   "source": [
    "Train Loop, Test Loop, and Train Model"
   ]
  },
  {
   "cell_type": "code",
   "execution_count": 10,
   "metadata": {},
   "outputs": [],
   "source": [
    "def train_loop(dataloader, model, loss_fn, optimizer):\n",
    "    model.train()\n",
    "    data_num=len(dataloader.dataset)\n",
    "    batch_num=len(dataloader)\n",
    "    train_loss=0\n",
    "    train_correct=0\n",
    "\n",
    "    for batchs, (X,Y) in enumerate(train_dataloader):\n",
    "        optimizer.zero_grad()\n",
    "\n",
    "        X=X.to(DEVICE)\n",
    "        Y=Y.to(DEVICE)\n",
    "\n",
    "        Y_hat=model(X)\n",
    "        loss=loss_fn(Y_hat, Y)\n",
    "        loss.backward()\n",
    "        optimizer.step()\n",
    "\n",
    "        train_correct+= (Y_hat.argmax(1) == Y).type(torch.float).sum().item()\n",
    "        train_loss+=loss.item()\n",
    "\n",
    "    train_loss/=batch_num\n",
    "    train_acc = train_correct/data_num\n",
    "    return train_loss, train_acc"
   ]
  },
  {
   "cell_type": "code",
   "execution_count": 11,
   "metadata": {},
   "outputs": [],
   "source": [
    "def test_loop(dataloader, model, loss_fn):\n",
    "    model.eval()\n",
    "    data_num=len(dataloader.dataset)\n",
    "    batch_num=len(dataloader)\n",
    "    test_loss=0\n",
    "    test_correct=0\n",
    "\n",
    "    with torch.no_grad():\n",
    "        for batchs, (X,Y) in enumerate(dataloader):\n",
    "            X=X.to(DEVICE)\n",
    "            Y=Y.to(DEVICE)\n",
    "\n",
    "            Y_hat=model(X)\n",
    "            \n",
    "            loss=loss_fn(Y_hat, Y)\n",
    "            test_correct+=(Y_hat.argmax(1)==Y).type(torch.float).sum().item()\n",
    "            test_loss += loss.item()\n",
    "    \n",
    "    test_loss/=batch_num\n",
    "    test_acc = test_correct/data_num\n",
    "\n",
    "    return test_loss, test_acc"
   ]
  },
  {
   "cell_type": "code",
   "execution_count": 12,
   "metadata": {},
   "outputs": [],
   "source": [
    "def train_model():\n",
    "    early_stopping=EarlyStopping(patience=7, verbose=True)\n",
    "    train_loss_list=[]\n",
    "    train_acc_list=[]\n",
    "    val_loss_list=[]\n",
    "    val_acc_list=[]\n",
    "    \n",
    "    exe_epoch=0\n",
    "\n",
    "    for epoch in range(EPOCHS):\n",
    "        exe_epoch+=1\n",
    "\n",
    "        print(f\"\\n{epoch+1}번째 Epoch\", end=\"  \")\n",
    "\n",
    "        train_loss, train_acc= train_loop(train_dataloader, model, loss_fn, optimizer)\n",
    "        train_loss_list.append(train_loss)\n",
    "        train_acc_list.append(train_acc)\n",
    "        print(f\"\\nTrain - avg Loss= {train_loss:>8f},  Accuracy: {(100*train_acc):>0.1f}%\", end = \"  \")\n",
    "        \n",
    "        val_loss, val_acc=test_loop(val_dataloader,model,loss_fn)\n",
    "        val_loss_list.append(val_loss)\n",
    "        val_acc_list.append(val_acc)\n",
    "\n",
    "        print(f\"\\nVal - avg Loss= {val_loss:>8f},  Accuracy: {(100*val_acc):>0.1f}%\\n\", end = \"  \")\n",
    "\n",
    "        early_stopping(val_loss, model)\n",
    "        if early_stopping.early_stop:\n",
    "            print(\"Early Stop!\")\n",
    "            break\n",
    "\n",
    "        model.load_state_dict(torch.load('checkpoint.pt'))\n",
    "    \n",
    "    print(\"Done!\")\n",
    "    return train_loss_list, train_acc_list, val_loss_list, val_acc_list, exe_epoch"
   ]
  },
  {
   "cell_type": "code",
   "execution_count": 13,
   "metadata": {},
   "outputs": [
    {
     "name": "stdout",
     "output_type": "stream",
     "text": [
      "\n",
      "1번째 Epoch  "
     ]
    },
    {
     "name": "stderr",
     "output_type": "stream",
     "text": [
      "C:\\ProgramData\\Anaconda3\\envs\\pytorch_env\\lib\\site-packages\\torch\\nn\\functional.py:718: UserWarning: Named tensors and all their associated APIs are an experimental feature and subject to change. Please do not use them for anything important until they are released as stable. (Triggered internally at  ..\\c10/core/TensorImpl.h:1156.)\n",
      "  return torch.max_pool2d(input, kernel_size, stride, padding, dilation, ceil_mode)\n"
     ]
    },
    {
     "name": "stdout",
     "output_type": "stream",
     "text": [
      "\n",
      "Train - avg Loss= 0.536882,  Accuracy: 80.2%  \n",
      "Val - avg Loss= 0.401884,  Accuracy: 85.1%\n",
      "  Validation loss decreased (inf --> 0.401884).  Saving model ...\n",
      "\n",
      "2번째 Epoch  \n",
      "Train - avg Loss= 0.321679,  Accuracy: 88.1%  \n",
      "Val - avg Loss= 0.314444,  Accuracy: 88.3%\n",
      "  Validation loss decreased (0.401884 --> 0.314444).  Saving model ...\n",
      "\n",
      "3번째 Epoch  \n",
      "Train - avg Loss= 0.266188,  Accuracy: 90.1%  \n",
      "Val - avg Loss= 0.271758,  Accuracy: 90.4%\n",
      "  Validation loss decreased (0.314444 --> 0.271758).  Saving model ...\n",
      "\n",
      "4번째 Epoch  \n",
      "Train - avg Loss= 0.236982,  Accuracy: 91.1%  \n",
      "Val - avg Loss= 0.246107,  Accuracy: 90.7%\n",
      "  Validation loss decreased (0.271758 --> 0.246107).  Saving model ...\n",
      "\n",
      "5번째 Epoch  \n",
      "Train - avg Loss= 0.210245,  Accuracy: 92.1%  \n",
      "Val - avg Loss= 0.225042,  Accuracy: 91.5%\n",
      "  Validation loss decreased (0.246107 --> 0.225042).  Saving model ...\n",
      "\n",
      "6번째 Epoch  \n",
      "Train - avg Loss= 0.186769,  Accuracy: 93.0%  \n",
      "Val - avg Loss= 0.226992,  Accuracy: 91.6%\n",
      "  EarlyStopping counter: 1 out of 7\n",
      "\n",
      "7번째 Epoch  \n",
      "Train - avg Loss= 0.187294,  Accuracy: 92.9%  \n",
      "Val - avg Loss= 0.221718,  Accuracy: 92.1%\n",
      "  Validation loss decreased (0.225042 --> 0.221718).  Saving model ...\n",
      "\n",
      "8번째 Epoch  \n",
      "Train - avg Loss= 0.166173,  Accuracy: 93.8%  \n",
      "Val - avg Loss= 0.227630,  Accuracy: 91.8%\n",
      "  EarlyStopping counter: 1 out of 7\n",
      "\n",
      "9번째 Epoch  \n",
      "Train - avg Loss= 0.166845,  Accuracy: 93.8%  \n",
      "Val - avg Loss= 0.228205,  Accuracy: 92.2%\n",
      "  EarlyStopping counter: 2 out of 7\n",
      "\n",
      "10번째 Epoch  \n",
      "Train - avg Loss= 0.165730,  Accuracy: 93.6%  \n",
      "Val - avg Loss= 0.231408,  Accuracy: 91.9%\n",
      "  EarlyStopping counter: 3 out of 7\n",
      "\n",
      "11번째 Epoch  \n",
      "Train - avg Loss= 0.166987,  Accuracy: 93.7%  \n",
      "Val - avg Loss= 0.259295,  Accuracy: 90.6%\n",
      "  EarlyStopping counter: 4 out of 7\n",
      "\n",
      "12번째 Epoch  \n",
      "Train - avg Loss= 0.168718,  Accuracy: 93.7%  \n",
      "Val - avg Loss= 0.240058,  Accuracy: 91.0%\n",
      "  EarlyStopping counter: 5 out of 7\n",
      "\n",
      "13번째 Epoch  \n",
      "Train - avg Loss= 0.168661,  Accuracy: 93.6%  \n",
      "Val - avg Loss= 0.228375,  Accuracy: 91.8%\n",
      "  EarlyStopping counter: 6 out of 7\n",
      "\n",
      "14번째 Epoch  \n",
      "Train - avg Loss= 0.168016,  Accuracy: 93.7%  \n",
      "Val - avg Loss= 0.222916,  Accuracy: 92.0%\n",
      "  EarlyStopping counter: 7 out of 7\n",
      "Early Stop!\n",
      "Done!\n"
     ]
    }
   ],
   "source": [
    "train_loss, train_acc, val_loss, val_acc, exe_epoch = train_model()"
   ]
  },
  {
   "cell_type": "markdown",
   "metadata": {},
   "source": [
    "Figure"
   ]
  },
  {
   "cell_type": "code",
   "execution_count": 14,
   "metadata": {},
   "outputs": [
    {
     "name": "stdout",
     "output_type": "stream",
     "text": [
      "[0.5368823644518852, 0.3216794902384281, 0.2661876434087753, 0.23698187732696532, 0.21024542793631554, 0.1867691238671541, 0.1872936983630061, 0.16617251546680928, 0.16684515356272459, 0.16572971933335065, 0.16698682520538569, 0.16871807624399662, 0.16866076493263243, 0.16801577954739333]\n"
     ]
    }
   ],
   "source": [
    "print(train_loss)"
   ]
  },
  {
   "cell_type": "code",
   "execution_count": 15,
   "metadata": {},
   "outputs": [
    {
     "data": {
      "image/png": "[encoded data removed]",
      "text/plain": [
       "<Figure size 432x288 with 1 Axes>"
      ]
     },
     "metadata": {
      "needs_background": "light"
     },
     "output_type": "display_data"
    }
   ],
   "source": [
    "epochs=np.arange(1,exe_epoch+1)\n",
    "plt.plot(epochs, train_loss, 'r', label='Training loss')\n",
    "plt.plot(epochs, val_loss, 'b', label='val loss')\n",
    "\n",
    "minposs = val_loss.index(min(val_loss))+1 \n",
    "plt.axvline(minposs, linestyle='--', color='r',label='Early Stopping Checkpoint')\n",
    "\n",
    "plt.title('Training and val loss')\n",
    "plt.xlabel('Epochs')\n",
    "plt.ylabel('Loss')\n",
    "plt.legend()\n",
    "\n",
    "plt.show()"
   ]
  },
  {
   "cell_type": "code",
   "execution_count": 16,
   "metadata": {},
   "outputs": [
    {
     "data": {
      "image/png": "[encoded data removed]",
      "text/plain": [
       "<Figure size 432x288 with 1 Axes>"
      ]
     },
     "metadata": {
      "needs_background": "light"
     },
     "output_type": "display_data"
    }
   ],
   "source": [
    "plt.clf()   # 그래프를 초기화합니다\n",
    "plt.plot(epochs, train_acc, 'r', label='Training acc')\n",
    "plt.plot(epochs, val_acc, 'b', label='Val acc')\n",
    "\n",
    "minposs = val_loss.index(min(val_loss))+1 \n",
    "plt.axvline(minposs, linestyle='--', color='r',label='Early Stopping Checkpoint')\n",
    "\n",
    "plt.title('Training and Validation Acc')\n",
    "plt.xlabel('Epochs')\n",
    "plt.ylabel('Acc')\n",
    "plt.legend()\n",
    "\n",
    "plt.show()"
   ]
  },
  {
   "cell_type": "markdown",
   "metadata": {},
   "source": [
    "5. Test"
   ]
  },
  {
   "cell_type": "code",
   "execution_count": 17,
   "metadata": {},
   "outputs": [
    {
     "name": "stdout",
     "output_type": "stream",
     "text": [
      "\n",
      "Test - avg Loss= 0.246802,  Accuracy: 91.1%\n",
      "  "
     ]
    }
   ],
   "source": [
    "test_loss, test_acc= test_loop(test_dataloader, model, loss_fn)\n",
    "print(f\"\\nTest - avg Loss= {test_loss:>8f},  Accuracy: {(100*test_acc):>0.1f}%\\n\", end = \"  \")"
   ]
  },
  {
   "cell_type": "code",
   "execution_count": 19,
   "metadata": {},
   "outputs": [
    {
     "name": "stdout",
     "output_type": "stream",
     "text": [
      "torch.return_types.max(\n",
      "values=tensor([11.3883,  7.9116, 17.2209, 17.7672,  4.6593, 15.3688,  5.6697,  6.1884,\n",
      "         8.5687, 11.6635,  5.9066,  8.2083,  4.9846,  8.8291,  6.4513, 16.0015,\n",
      "         6.7252,  3.8893, 11.2751,  5.1285,  7.5273,  6.9831,  8.5603, 13.3241,\n",
      "        17.8502,  3.6971,  3.9410,  3.3473,  9.7860,  3.1062, 18.4178, 16.1364,\n",
      "         4.2234,  4.8943, 13.6975,  6.2528, 11.9699,  6.5117,  7.9600, 13.4770,\n",
      "         3.7328, 16.8395,  1.8673,  5.7337,  5.4313,  7.8127,  4.8649, 10.5114,\n",
      "         4.2839,  2.0143,  6.1974,  3.3312, 10.6644,  9.4464,  7.1371,  7.1381,\n",
      "        12.9096,  4.6033, 11.5839,  9.6677,  8.2596,  6.8817, 13.0352, 12.8061,\n",
      "        19.9596, 14.0592,  1.4900,  3.4390,  6.8287, 17.4170,  7.3440,  5.2574,\n",
      "         7.7140,  1.9603,  6.3661,  6.0638, 20.5243,  7.2252, 11.7020,  7.4834,\n",
      "        10.0440, 13.4788, 16.2120, 13.1524, 15.3945,  6.0812,  5.8685,  9.6839,\n",
      "         6.7748,  3.6381, 15.9972,  9.0322,  5.1077, 10.1571, 15.6064,  8.2445,\n",
      "         4.4432, 14.4939,  3.0496,  6.5122], device='cuda:0',\n",
      "       grad_fn=<MaxBackward0>),\n",
      "indices=tensor([9, 2, 1, 1, 6, 1, 2, 6, 5, 7, 4, 5, 5, 3, 4, 1, 2, 4, 8, 0, 2, 5, 7, 5,\n",
      "        1, 2, 6, 0, 9, 3, 8, 8, 3, 3, 8, 0, 7, 5, 7, 9, 6, 1, 6, 9, 6, 7, 2, 1,\n",
      "        2, 6, 4, 4, 5, 8, 2, 2, 8, 4, 8, 0, 7, 7, 8, 5, 1, 1, 2, 3, 7, 8, 7, 0,\n",
      "        2, 6, 2, 3, 1, 2, 8, 4, 1, 8, 5, 9, 5, 0, 3, 2, 0, 6, 5, 3, 6, 7, 1, 8,\n",
      "        0, 1, 2, 2], device='cuda:0'))\n"
     ]
    },
    {
     "name": "stderr",
     "output_type": "stream",
     "text": [
      "C:\\Users\\Public\\Documents\\ESTsoft\\CreatorTemp/ipykernel_22316/3139184142.py:16: MatplotlibDeprecationWarning: Passing non-integers as three-element position specification is deprecated since 3.3 and will be removed two minor releases later.\n",
      "  ax = fig.add_subplot(2, 20/2, idx+1, xticks=[], yticks=[])\n"
     ]
    },
    {
     "data": {
      "image/png": "[encoded data removed]",
      "text/plain": [
       "<Figure size 1800x288 with 20 Axes>"
      ]
     },
     "metadata": {},
     "output_type": "display_data"
    }
   ],
   "source": [
    "# obtain one batch of test images\n",
    "dataiter = iter(test_dataloader)\n",
    "images, labels = dataiter.next()\n",
    "\n",
    "output = model(images.to(DEVICE))\n",
    "\n",
    "_, preds = torch.max(output, 1)\n",
    "#뒤에 거가 indices\n",
    "\n",
    "print(torch.max(output,1))\n",
    "# prep images for display\n",
    "images = images.numpy()\n",
    "\n",
    "# plot the images in the batch, along with predicted and true labels\n",
    "fig = plt.figure(figsize=(25, 4))\n",
    "for idx in np.arange(20):\n",
    "    ax = fig.add_subplot(2, 20/2, idx+1, xticks=[], yticks=[])\n",
    "    ax.imshow(np.squeeze(images[idx]), cmap='gray')\n",
    "    ax.set_title(\"{} ({})\".format(str(preds[idx].item()), str(labels[idx].item())),\n",
    "                 color=(\"green\" if preds[idx]==labels[idx] else \"red\"))\n",
    "\n"
   ]
  }
 ],
 "metadata": {
  "interpreter": {
   "hash": "dca4efdd400e53e6663797bbd1b46cf726b4dffb9a4cd6e80b88fc0d122f2781"
  },
  "kernelspec": {
   "display_name": "Python 3.8.10 64-bit ('pytorch_env': conda)",
   "name": "python3"
  },
  "language_info": {
   "codemirror_mode": {
    "name": "ipython",
    "version": 3
   },
   "file_extension": ".py",
   "mimetype": "text/x-python",
   "name": "python",
   "nbconvert_exporter": "python",
   "pygments_lexer": "ipython3",
   "version": "3.8.10"
  },
  "orig_nbformat": 4
 },
 "nbformat": 4,
 "nbformat_minor": 2
}
