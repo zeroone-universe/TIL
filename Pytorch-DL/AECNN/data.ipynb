{
 "cells": [
  {
   "cell_type": "code",
   "execution_count": 58,
   "metadata": {},
   "outputs": [],
   "source": [
    "import torch\n",
    "from torch.utils.data import Dataset, DataLoader\n",
    "import torchaudio as ta\n",
    "import pytorch_lightning as pl\n",
    "\n",
    "import numpy as np"
   ]
  },
  {
   "cell_type": "code",
   "execution_count": 59,
   "metadata": {},
   "outputs": [],
   "source": [
    "def get_wav_paths(paths: list):\n",
    "    wav_paths=[]\n",
    "    if type(paths)==str:\n",
    "        paths=[paths]\n",
    "        \n",
    "    for path in paths:\n",
    "        for root, dirs, files in os.walk(path):\n",
    "            wav_paths += [os.path.join(root,file) for file in files if os.path.splitext(file)[-1]=='.wav']\n",
    "                        \n",
    "    wav_paths.sort(key=lambda x: os.path.split(x)[-1])\n",
    "    \n",
    "    return wav_paths\n",
    "\n",
    "def check_dir_exist(path_list):\n",
    "    if type(path_list) == str:\n",
    "        path_list = [path_list]\n",
    "        \n",
    "    for path in path_list:\n",
    "        if type(path) == str and os.path.splitext(path)[-1] == '' and not os.path.exists(path):\n",
    "            os.makedirs(path)       \n",
    "\n",
    "def get_filename(path):\n",
    "    return os.path.splitext(os.path.basename(path))  "
   ]
  },
  {
   "cell_type": "code",
   "execution_count": 68,
   "metadata": {},
   "outputs": [],
   "source": [
    "class CEDataset(Dataset): \n",
    "  #데이터셋의 전처리를 해주는 부분\n",
    "    def __init__(self, path_dir_orig, path_dir_dist, seg_len=2):\n",
    "        self.path_dir_orig   = path_dir_orig  \n",
    "        self.path_dir_dist   = path_dir_dist  \n",
    "        self.seg_len = seg_len\n",
    "        self.wavs={}\n",
    "        self.filenames= []\n",
    "\n",
    "\n",
    "        paths_wav_orig = get_wav_paths(self.path_dir_orig)\n",
    "        paths_wav_dist= get_wav_paths(self.path_dir_dist)\n",
    "\n",
    "        for path_wav_orig, path_wav_dist in zip(paths_wav_orig, paths_wav_dist):\n",
    "            filename=get_filename(path_wav_orig)[0]\n",
    "            wav_orig,_=ta.load(path_wav_orig)\n",
    "            wav_dist,_=ta.load(path_wav_dist)\n",
    "            self.wavs[filename]=(wav_orig, wav_dist)\n",
    "            self.filenames.append(filename)\n",
    "\n",
    "        self.filenames.sort()\n",
    "        \n",
    "\n",
    "    # 총 데이터의 개수를 리턴\n",
    "    def __len__(self):\n",
    "        return len(self.filenames)\n",
    "\n",
    "\n",
    "    # 인덱스를 입력받아 그에 맵핑되는 입출력 데이터를 파이토치의 Tensor 형태로 리턴\n",
    "    def __getitem__(self, idx):\n",
    "\n",
    "        filename = self.filenames[idx]\n",
    "        (wav_orig, wav_dist) = self.wavs[filename]\n",
    "        \n",
    "        if self.seg_len>0:\n",
    "            duration= int(self.seg_len * 16000)\n",
    "\n",
    "            wav_orig= wav_orig.view(1,-1)\n",
    "            wav_dist= wav_dist.view(1,-1)\n",
    "\n",
    "            sig_len = wav_orig.shape[-1]\n",
    "\n",
    "            t_start = np.random.randint(\n",
    "                low = 0,\n",
    "                high= np.max([1, sig_len- duration - 2]),\n",
    "                size = 1\n",
    "            )[0]\n",
    "            t_end = t_start + duration\n",
    "\n",
    "            wav_orig = wav_orig.repeat(1, t_end // sig_len + 1) [ ..., t_start : t_end]\n",
    "            wav_dist = wav_dist.repeat(1, t_end// sig_len + 1) [ ..., t_start : t_end]\n",
    "\n",
    "        return wav_orig, wav_dist, filename\n"
   ]
  },
  {
   "cell_type": "code",
   "execution_count": 69,
   "metadata": {},
   "outputs": [],
   "source": [
    "dataset=CodecEnhancement(\n",
    "    path_dir_orig = \"/media/youngwon/Neo/NeoChoi/TIL_Dataset/AECNN_enhancement/target\",\n",
    "    path_dir_dist = \"/media/youngwon/Neo/NeoChoi/TIL_Dataset/AECNN_enhancement/decoded\",\n",
    "    seg_len = 2)"
   ]
  },
  {
   "cell_type": "code",
   "execution_count": 70,
   "metadata": {},
   "outputs": [],
   "source": [
    "a=next(iter(dataset))"
   ]
  },
  {
   "cell_type": "code",
   "execution_count": 71,
   "metadata": {},
   "outputs": [],
   "source": [
    "a1 = a[0].squeeze()"
   ]
  },
  {
   "cell_type": "code",
   "execution_count": 72,
   "metadata": {},
   "outputs": [
    {
     "data": {
      "text/plain": [
       "32000"
      ]
     },
     "execution_count": 72,
     "metadata": {},
     "output_type": "execute_result"
    }
   ],
   "source": [
    "len(a1)"
   ]
  },
  {
   "cell_type": "code",
   "execution_count": 78,
   "metadata": {},
   "outputs": [],
   "source": [
    "class CEDataModule(pl.LightningDataModule):\n",
    "    def __init__(self, data_dir=\"/media/youngwon/Neo/NeoChoi/TIL_Dataset/AECNN_enhancement\", batch_size=4, seg_len=2):\n",
    "        super().__init__()\n",
    "        self.data_dir = data_dir\n",
    "        self.batch_size = batch_size\n",
    "        self.seg_len = seg_len\n",
    "\n",
    "    def prepare_data(self):\n",
    "        pass\n",
    "    \n",
    "    def setup(self, stage= None):\n",
    "        full_dataset = CEDataset(path_dir_orig = f\"{self.data_dir}/target\", path_dir_dist = f\"{self.data_dir}/decoded\", seg_len = self.seg_len)\n",
    "        self.train_dataset, self.val_dataset = torch.utils.data.random_split(full_dataset, [4000, len(full_dataset) - 4000])\n",
    "    \n",
    "    def train_dataloader(self):\n",
    "        return DataLoader(self.train_dataset, batch_size = self.batch_size, shuffle = True)\n",
    "    \n",
    "    def val_dataloader(self):\n",
    "        return DataLoader(self.val_dataset, batch_size = self.batch_size)\n",
    "\n",
    "    def test_dataloader(self):\n",
    "        return DataLoader(self.val_dataset, batch_size = self.batch_size)"
   ]
  },
  {
   "cell_type": "code",
   "execution_count": 79,
   "metadata": {},
   "outputs": [],
   "source": [
    "datamodule= CEDataModule()\n",
    "datamodule.setup()"
   ]
  },
  {
   "cell_type": "code",
   "execution_count": 80,
   "metadata": {},
   "outputs": [],
   "source": [
    "a=datamodule.train_dataloader()"
   ]
  },
  {
   "cell_type": "code",
   "execution_count": 81,
   "metadata": {},
   "outputs": [
    {
     "data": {
      "text/plain": [
       "<torch.utils.data.dataloader.DataLoader at 0x7f3571b08160>"
      ]
     },
     "execution_count": 81,
     "metadata": {},
     "output_type": "execute_result"
    }
   ],
   "source": [
    "a"
   ]
  },
  {
   "cell_type": "code",
   "execution_count": 82,
   "metadata": {},
   "outputs": [
    {
     "data": {
      "text/plain": [
       "[tensor([[[-0.0490, -0.0603,  0.0074,  ...,  0.0085,  0.0077,  0.0066]],\n",
       " \n",
       "         [[ 0.0284,  0.0374,  0.0317,  ...,  0.0054,  0.0041,  0.0026]],\n",
       " \n",
       "         [[ 0.0030, -0.0042, -0.0036,  ..., -0.0134, -0.0077, -0.0028]],\n",
       " \n",
       "         [[-0.0052, -0.0043,  0.0000,  ..., -0.0070,  0.0160,  0.0123]]]),\n",
       " tensor([[[-2.1484e-02, -3.9032e-02,  1.2634e-02,  ...,  1.0071e-03,\n",
       "            2.1057e-03,  3.0212e-03]],\n",
       " \n",
       "         [[ 1.6785e-02,  2.4017e-02,  2.1576e-02,  ...,  4.6692e-03,\n",
       "            3.0518e-03,  1.1292e-03]],\n",
       " \n",
       "         [[ 4.1504e-03, -4.7302e-03, -5.8289e-03,  ..., -1.1658e-02,\n",
       "           -7.8125e-03, -4.4861e-03]],\n",
       " \n",
       "         [[-1.2543e-02, -1.0651e-02,  4.8828e-04,  ..., -3.0518e-05,\n",
       "            9.2163e-03,  9.5215e-03]]]),\n",
       " ('MADC0_0001', 'MSAS0_0001', 'MDSS0_0007', 'MDED0_0007')]"
      ]
     },
     "execution_count": 82,
     "metadata": {},
     "output_type": "execute_result"
    }
   ],
   "source": [
    "next(iter(a))"
   ]
  },
  {
   "cell_type": "code",
   "execution_count": null,
   "metadata": {},
   "outputs": [],
   "source": []
  }
 ],
 "metadata": {
  "interpreter": {
   "hash": "f1b0e3649e55e70b6ec8e5685e1aea72dbb96601ce92e669860a122d0b7e1ee5"
  },
  "kernelspec": {
   "display_name": "Python 3.9.7 ('zeroone_univ')",
   "language": "python",
   "name": "python3"
  },
  "language_info": {
   "codemirror_mode": {
    "name": "ipython",
    "version": 3
   },
   "file_extension": ".py",
   "mimetype": "text/x-python",
   "name": "python",
   "nbconvert_exporter": "python",
   "pygments_lexer": "ipython3",
   "version": "3.9.7"
  },
  "orig_nbformat": 4
 },
 "nbformat": 4,
 "nbformat_minor": 2
}
