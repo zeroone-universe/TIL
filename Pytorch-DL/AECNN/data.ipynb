{
 "cells": [
  {
   "cell_type": "code",
   "execution_count": 9,
   "metadata": {},
   "outputs": [],
   "source": [
    "import torch\n",
    "from torch.utils.data import Dataset, DataLoader\n",
    "import torchaudio as ta\n",
    "\n",
    "import pytorch_lightning as pl\n",
    "\n",
    "from utils import *"
   ]
  },
  {
   "cell_type": "code",
   "execution_count": 10,
   "metadata": {},
   "outputs": [],
   "source": [
    "def get_wav_paths(paths: list):\n",
    "    wav_paths=[]\n",
    "    if type(paths)==str:\n",
    "        paths=[paths]\n",
    "        \n",
    "    for path in paths:\n",
    "        for root, dirs, files in os.walk(path):\n",
    "            wav_paths += [os.path.join(root,file) for file in files if os.path.splitext(file)[-1]=='.wav']\n",
    "                        \n",
    "    wav_paths.sort(key=lambda x: os.path.split(x)[-1])\n",
    "    \n",
    "    return wav_paths\n",
    "\n",
    "def check_dir_exist(path_list):\n",
    "    if type(path_list) == str:\n",
    "        path_list = [path_list]\n",
    "        \n",
    "    for path in path_list:\n",
    "        if type(path) == str and os.path.splitext(path)[-1] == '' and not os.path.exists(path):\n",
    "            os.makedirs(path)       \n",
    "\n",
    "def get_filename(path):\n",
    "    return os.path.splitext(os.path.basename(path))  "
   ]
  },
  {
   "cell_type": "code",
   "execution_count": 13,
   "metadata": {},
   "outputs": [],
   "source": [
    "class CodecEnhancement(Dataset): \n",
    "  #데이터셋의 전처리를 해주는 부분\n",
    "    def __init__(self, path_dir_orig, path_dir_dist, seg_len):\n",
    "        self.path_dir_orig   = path_dir_orig  \n",
    "        self.path_dir_dist   = path_dir_dist  \n",
    "        self.seg_len = seg_len\n",
    "\n",
    "        paths_wav_orig = get_wav_paths(self.path_dir_orig)\n",
    "        paths_wav_dist= get_wav_paths(self.path_dir_dist)\n",
    "\n",
    "        for path_wav_orig, path_wav_dist in zip(paths_wav_orig, paths_wav_dist):\n",
    "            filename=get_filename(path_wav_orig)[0]\n",
    "            wav_orig,_=ta.load(path_wav_orig)\n",
    "            wav_dist,_=ta.load(path_wav_dist)\n",
    "            self.wavs[filename]=(wav_orig, wav_dist)\n",
    "            self.filenames.append(filename)\n",
    "        \n",
    "\n",
    "    # 총 데이터의 개수를 리턴\n",
    "    def __len__(self):\n",
    "        return len(self.filenames)\n",
    "\n",
    "\n",
    "\n",
    "    # 인덱스를 입력받아 그에 맵핑되는 입출력 데이터를 파이토치의 Tensor 형태로 리턴\n",
    "    def __getitem__(self, idx):\n",
    "\n",
    "        filename = self.filenames[idx]\n",
    "        (wave_orig, wav_dist) = self.wavs[filename]\n",
    "        \n",
    "        if self.seg_len>0:\n",
    "            duration= int(self.seg_len * 16000)\n",
    "\n",
    "            wav_orig= wav_orig.view(1,-1)\n",
    "            wav_dist= wav_dist.view(1,-1)\n",
    "\n",
    "            sig_len = wav_orig[-1]\n",
    "\n",
    "            t_start = np.random.randint(\n",
    "                low = 0,\n",
    "                high= np.max([1, sig_len- duration - 2]),\n",
    "                size = 1\n",
    "            )[0]\n",
    "            t_end = t_start + duration\n",
    "\n",
    "            wav_orig = wav_orig.repeat(1, t_end // sig_len + 1) [ ..., t_start : t_end]\n",
    "            wav_dist = wav_dist.repeat(1, t_end// sig_len + 1) [ ..., t_start : t_end]\n",
    "\n",
    "        return wav_orig, wav_dist, filename\n"
   ]
  },
  {
   "cell_type": "code",
   "execution_count": 14,
   "metadata": {},
   "outputs": [
    {
     "ename": "AttributeError",
     "evalue": "",
     "output_type": "error",
     "traceback": [
      "\u001b[0;31m---------------------------------------------------------------------------\u001b[0m",
      "\u001b[0;31mAttributeError\u001b[0m                            Traceback (most recent call last)",
      "\u001b[0;32m/tmp/ipykernel_3561/3470931166.py\u001b[0m in \u001b[0;36m<module>\u001b[0;34m\u001b[0m\n\u001b[0;32m----> 1\u001b[0;31m dataset=CodecEnhancement(\n\u001b[0m\u001b[1;32m      2\u001b[0m     \u001b[0mpath_dir_orig\u001b[0m \u001b[0;34m=\u001b[0m \u001b[0;34m\"/media/youngwon/Neo/NeoChoi/TIL_Dataset/AECNN_enhancement/target\"\u001b[0m\u001b[0;34m,\u001b[0m\u001b[0;34m\u001b[0m\u001b[0;34m\u001b[0m\u001b[0m\n\u001b[1;32m      3\u001b[0m     \u001b[0mpath_dir_dist\u001b[0m \u001b[0;34m=\u001b[0m \u001b[0;34m\"/media/youngwon/Neo/NeoChoi/TIL_Dataset/AECNN_enhancement/decoded\"\u001b[0m\u001b[0;34m,\u001b[0m\u001b[0;34m\u001b[0m\u001b[0;34m\u001b[0m\u001b[0m\n\u001b[1;32m      4\u001b[0m     seg_len = 2)\n",
      "\u001b[0;32m/tmp/ipykernel_3561/3009247811.py\u001b[0m in \u001b[0;36m__init__\u001b[0;34m(self, path_dir_orig, path_dir_dist, seg_len)\u001b[0m\n\u001b[1;32m     13\u001b[0m             \u001b[0mwav_orig\u001b[0m\u001b[0;34m,\u001b[0m\u001b[0m_\u001b[0m\u001b[0;34m=\u001b[0m\u001b[0mta\u001b[0m\u001b[0;34m.\u001b[0m\u001b[0mload\u001b[0m\u001b[0;34m(\u001b[0m\u001b[0mpath_wav_orig\u001b[0m\u001b[0;34m)\u001b[0m\u001b[0;34m\u001b[0m\u001b[0;34m\u001b[0m\u001b[0m\n\u001b[1;32m     14\u001b[0m             \u001b[0mwav_dist\u001b[0m\u001b[0;34m,\u001b[0m\u001b[0m_\u001b[0m\u001b[0;34m=\u001b[0m\u001b[0mta\u001b[0m\u001b[0;34m.\u001b[0m\u001b[0mload\u001b[0m\u001b[0;34m(\u001b[0m\u001b[0mpath_wav_dist\u001b[0m\u001b[0;34m)\u001b[0m\u001b[0;34m\u001b[0m\u001b[0;34m\u001b[0m\u001b[0m\n\u001b[0;32m---> 15\u001b[0;31m             \u001b[0mself\u001b[0m\u001b[0;34m.\u001b[0m\u001b[0mwavs\u001b[0m\u001b[0;34m[\u001b[0m\u001b[0mfilename\u001b[0m\u001b[0;34m]\u001b[0m\u001b[0;34m=\u001b[0m\u001b[0;34m(\u001b[0m\u001b[0mwav_orig\u001b[0m\u001b[0;34m,\u001b[0m \u001b[0mwav_dist\u001b[0m\u001b[0;34m)\u001b[0m\u001b[0;34m\u001b[0m\u001b[0;34m\u001b[0m\u001b[0m\n\u001b[0m\u001b[1;32m     16\u001b[0m             \u001b[0mself\u001b[0m\u001b[0;34m.\u001b[0m\u001b[0mfilenames\u001b[0m\u001b[0;34m.\u001b[0m\u001b[0mappend\u001b[0m\u001b[0;34m(\u001b[0m\u001b[0mfilename\u001b[0m\u001b[0;34m)\u001b[0m\u001b[0;34m\u001b[0m\u001b[0;34m\u001b[0m\u001b[0m\n\u001b[1;32m     17\u001b[0m \u001b[0;34m\u001b[0m\u001b[0m\n",
      "\u001b[0;32m~/anaconda3/envs/zeroone_univ/lib/python3.9/site-packages/torch/utils/data/dataset.py\u001b[0m in \u001b[0;36m__getattr__\u001b[0;34m(self, attribute_name)\u001b[0m\n\u001b[1;32m     81\u001b[0m             \u001b[0;32mreturn\u001b[0m \u001b[0mfunction\u001b[0m\u001b[0;34m\u001b[0m\u001b[0;34m\u001b[0m\u001b[0m\n\u001b[1;32m     82\u001b[0m         \u001b[0;32melse\u001b[0m\u001b[0;34m:\u001b[0m\u001b[0;34m\u001b[0m\u001b[0;34m\u001b[0m\u001b[0m\n\u001b[0;32m---> 83\u001b[0;31m             \u001b[0;32mraise\u001b[0m \u001b[0mAttributeError\u001b[0m\u001b[0;34m\u001b[0m\u001b[0;34m\u001b[0m\u001b[0m\n\u001b[0m\u001b[1;32m     84\u001b[0m \u001b[0;34m\u001b[0m\u001b[0m\n\u001b[1;32m     85\u001b[0m     \u001b[0;34m@\u001b[0m\u001b[0mclassmethod\u001b[0m\u001b[0;34m\u001b[0m\u001b[0;34m\u001b[0m\u001b[0m\n",
      "\u001b[0;31mAttributeError\u001b[0m: "
     ]
    }
   ],
   "source": [
    "dataset=CodecEnhancement(\n",
    "    path_dir_orig = \"/media/youngwon/Neo/NeoChoi/TIL_Dataset/AECNN_enhancement/target\",\n",
    "    path_dir_dist = \"/media/youngwon/Neo/NeoChoi/TIL_Dataset/AECNN_enhancement/decoded\",\n",
    "    seg_len = 2)"
   ]
  },
  {
   "cell_type": "code",
   "execution_count": null,
   "metadata": {},
   "outputs": [],
   "source": []
  }
 ],
 "metadata": {
  "interpreter": {
   "hash": "f1b0e3649e55e70b6ec8e5685e1aea72dbb96601ce92e669860a122d0b7e1ee5"
  },
  "kernelspec": {
   "display_name": "Python 3.9.7 ('zeroone_univ')",
   "language": "python",
   "name": "python3"
  },
  "language_info": {
   "codemirror_mode": {
    "name": "ipython",
    "version": 3
   },
   "file_extension": ".py",
   "mimetype": "text/x-python",
   "name": "python",
   "nbconvert_exporter": "python",
   "pygments_lexer": "ipython3",
   "version": "3.9.7"
  },
  "orig_nbformat": 4
 },
 "nbformat": 4,
 "nbformat_minor": 2
}
