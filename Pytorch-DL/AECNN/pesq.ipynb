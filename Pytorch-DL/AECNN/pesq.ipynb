{
 "cells": [
  {
   "cell_type": "markdown",
   "metadata": {},
   "source": [
    "PESQ Finder MF :) "
   ]
  },
  {
   "cell_type": "code",
   "execution_count": 13,
   "metadata": {},
   "outputs": [],
   "source": [
    "from pesq import pesq\n",
    "import os\n",
    "import numpy as np\n",
    "\n",
    "import torchaudio as ta"
   ]
  },
  {
   "cell_type": "code",
   "execution_count": 4,
   "metadata": {},
   "outputs": [],
   "source": [
    "def get_wav_paths(paths: list):\n",
    "    wav_paths=[]\n",
    "    if type(paths)==str:\n",
    "        paths=[paths]\n",
    "        \n",
    "    for path in paths:\n",
    "        for root, dirs, files in os.walk(path):\n",
    "            wav_paths += [os.path.join(root,file) for file in files if os.path.splitext(file)[-1]=='.wav']\n",
    "                        \n",
    "    wav_paths.sort(key=lambda x: os.path.split(x)[-1])\n",
    "    \n",
    "    return wav_paths"
   ]
  },
  {
   "cell_type": "code",
   "execution_count": 8,
   "metadata": {},
   "outputs": [],
   "source": [
    "paths_wav_orig = get_wav_paths(\"/media/youngwon/Neo/NeoChoi/TIL_Dataset/AECNN_enhancement/target\")\n",
    "paths_wav_dec = get_wav_paths(\"/media/youngwon/Neo/NeoChoi/TIL_Dataset/AECNN_enhancement/decoded\")"
   ]
  },
  {
   "cell_type": "code",
   "execution_count": 16,
   "metadata": {},
   "outputs": [
    {
     "data": {
      "text/plain": [
       "4620"
      ]
     },
     "execution_count": 16,
     "metadata": {},
     "output_type": "execute_result"
    }
   ],
   "source": [
    "len(paths_wav_dec)"
   ]
  },
  {
   "cell_type": "code",
   "execution_count": 18,
   "metadata": {},
   "outputs": [
    {
     "name": "stdout",
     "output_type": "stream",
     "text": [
      "Average PESQ : 2.685323967407276\n"
     ]
    }
   ],
   "source": [
    "sum_pesq = 0\n",
    "for path_wav_orig, path_wav_dec in zip(paths_wav_orig, paths_wav_dec):\n",
    "    wav_orig, _ = ta.load(path_wav_orig)\n",
    "    wav_dec, _  = ta.load(path_wav_dec)\n",
    "    np_orig = wav_orig.squeeze().detach().cpu().numpy()\n",
    "    np_dec = wav_dec.squeeze().detach().cpu().numpy()\n",
    "\n",
    "    dec_pesq = pesq(fs = 16000, ref = np_orig, deg = np_dec, mode = \"wb\")\n",
    "    sum_pesq += dec_pesq\n",
    "\n",
    "avg_pesq = sum_pesq/len(paths_wav_dec)\n",
    "print(f\"Average PESQ : {avg_pesq}\")"
   ]
  },
  {
   "cell_type": "code",
   "execution_count": 15,
   "metadata": {},
   "outputs": [
    {
     "data": {
      "text/plain": [
       "(tensor([[ 1.8311e-04,  4.2725e-04,  4.8828e-04,  ..., -3.0518e-05,\n",
       "          -3.0518e-05,  0.0000e+00]]),\n",
       " 16000)"
      ]
     },
     "execution_count": 15,
     "metadata": {},
     "output_type": "execute_result"
    }
   ],
   "source": [
    "wav_de"
   ]
  },
  {
   "cell_type": "code",
   "execution_count": null,
   "metadata": {},
   "outputs": [],
   "source": []
  }
 ],
 "metadata": {
  "interpreter": {
   "hash": "f1b0e3649e55e70b6ec8e5685e1aea72dbb96601ce92e669860a122d0b7e1ee5"
  },
  "kernelspec": {
   "display_name": "Python 3.9.7 ('zeroone_univ')",
   "language": "python",
   "name": "python3"
  },
  "language_info": {
   "codemirror_mode": {
    "name": "ipython",
    "version": 3
   },
   "file_extension": ".py",
   "mimetype": "text/x-python",
   "name": "python",
   "nbconvert_exporter": "python",
   "pygments_lexer": "ipython3",
   "version": "3.9.7"
  },
  "orig_nbformat": 4
 },
 "nbformat": 4,
 "nbformat_minor": 2
}
