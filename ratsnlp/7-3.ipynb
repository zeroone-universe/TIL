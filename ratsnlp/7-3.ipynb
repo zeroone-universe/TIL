{
  "cells": [
    {
      "cell_type": "markdown",
      "metadata": {
        "id": "eC5OwyKMx_l9"
      },
      "source": [
        "# 각종 설정\n",
        "모델 하이퍼파라메터(hyperparameter)와 저장 위치 등 설정 정보를 선언합니다."
      ]
    },
    {
      "cell_type": "code",
      "execution_count": 1,
      "metadata": {
        "id": "fKybDwDqFIX5"
      },
      "outputs": [
        {
          "name": "stderr",
          "output_type": "stream",
          "text": [
            "/home/youngwon/anaconda3/envs/nlp_env/lib/python3.9/site-packages/tqdm/auto.py:21: TqdmWarning: IProgress not found. Please update jupyter and ipywidgets. See https://ipywidgets.readthedocs.io/en/stable/user_install.html\n",
            "  from .autonotebook import tqdm as notebook_tqdm\n",
            "2023-04-16 16:37:00.683197: I tensorflow/core/platform/cpu_feature_guard.cc:182] This TensorFlow binary is optimized to use available CPU instructions in performance-critical operations.\n",
            "To enable the following instructions: AVX2 FMA, in other operations, rebuild TensorFlow with the appropriate compiler flags.\n",
            "2023-04-16 16:37:01.184772: W tensorflow/compiler/tf2tensorrt/utils/py_utils.cc:38] TF-TRT Warning: Could not find TensorRT\n"
          ]
        },
        {
          "name": "stdout",
          "output_type": "stream",
          "text": [
            "downstream_model_checkpoint_fpath: ./7-2_content/checkpoint-qa/epoch=0-val_loss=0.47.ckpt\n"
          ]
        }
      ],
      "source": [
        "from ratsnlp.nlpbook.qa import QADeployArguments\n",
        "args = QADeployArguments(\n",
        "    pretrained_model_name=\"beomi/kcbert-base\",\n",
        "    downstream_model_dir=\"./7-2_content/checkpoint-qa\",\n",
        "    max_seq_length=128,\n",
        "    max_query_length=32,\n",
        ")"
      ]
    },
    {
      "cell_type": "markdown",
      "metadata": {
        "id": "J3mThtbxyNyO"
      },
      "source": [
        "# 모델 로딩\n",
        "파인튜닝을 마친 모델과 토크나이저를 읽어 들입니다."
      ]
    },
    {
      "cell_type": "code",
      "execution_count": 2,
      "metadata": {
        "id": "aFV031RZFRgD"
      },
      "outputs": [
        {
          "data": {
            "text/plain": [
              "BertForQuestionAnswering(\n",
              "  (bert): BertModel(\n",
              "    (embeddings): BertEmbeddings(\n",
              "      (word_embeddings): Embedding(30000, 768, padding_idx=0)\n",
              "      (position_embeddings): Embedding(300, 768)\n",
              "      (token_type_embeddings): Embedding(2, 768)\n",
              "      (LayerNorm): LayerNorm((768,), eps=1e-12, elementwise_affine=True)\n",
              "      (dropout): Dropout(p=0.1, inplace=False)\n",
              "    )\n",
              "    (encoder): BertEncoder(\n",
              "      (layer): ModuleList(\n",
              "        (0-11): 12 x BertLayer(\n",
              "          (attention): BertAttention(\n",
              "            (self): BertSelfAttention(\n",
              "              (query): Linear(in_features=768, out_features=768, bias=True)\n",
              "              (key): Linear(in_features=768, out_features=768, bias=True)\n",
              "              (value): Linear(in_features=768, out_features=768, bias=True)\n",
              "              (dropout): Dropout(p=0.1, inplace=False)\n",
              "            )\n",
              "            (output): BertSelfOutput(\n",
              "              (dense): Linear(in_features=768, out_features=768, bias=True)\n",
              "              (LayerNorm): LayerNorm((768,), eps=1e-12, elementwise_affine=True)\n",
              "              (dropout): Dropout(p=0.1, inplace=False)\n",
              "            )\n",
              "          )\n",
              "          (intermediate): BertIntermediate(\n",
              "            (dense): Linear(in_features=768, out_features=3072, bias=True)\n",
              "          )\n",
              "          (output): BertOutput(\n",
              "            (dense): Linear(in_features=3072, out_features=768, bias=True)\n",
              "            (LayerNorm): LayerNorm((768,), eps=1e-12, elementwise_affine=True)\n",
              "            (dropout): Dropout(p=0.1, inplace=False)\n",
              "          )\n",
              "        )\n",
              "      )\n",
              "    )\n",
              "  )\n",
              "  (qa_outputs): Linear(in_features=768, out_features=2, bias=True)\n",
              ")"
            ]
          },
          "execution_count": 2,
          "metadata": {},
          "output_type": "execute_result"
        }
      ],
      "source": [
        "import torch\n",
        "from transformers import BertConfig, BertForQuestionAnswering\n",
        "fine_tuned_model_ckpt = torch.load(\n",
        "    args.downstream_model_checkpoint_fpath,\n",
        "    map_location=torch.device(\"cpu\")\n",
        ")\n",
        "pretrained_model_config = BertConfig.from_pretrained(\n",
        "    args.pretrained_model_name,\n",
        ")\n",
        "model = BertForQuestionAnswering(pretrained_model_config)\n",
        "model.load_state_dict({k.replace(\"model.\", \"\"): v for k, v in fine_tuned_model_ckpt['state_dict'].items()})\n",
        "model.eval()"
      ]
    },
    {
      "cell_type": "code",
      "execution_count": 3,
      "metadata": {
        "id": "C3amlsjpFd9i"
      },
      "outputs": [],
      "source": [
        "from transformers import BertTokenizer\n",
        "tokenizer = BertTokenizer.from_pretrained(\n",
        "    args.pretrained_model_name,\n",
        "    do_lower_case=False,\n",
        ")"
      ]
    },
    {
      "cell_type": "markdown",
      "metadata": {
        "id": "ZWVsdmThyV_p"
      },
      "source": [
        "# 인퍼런스 함수 선언\n",
        "인퍼런스 함수를 선언합니다."
      ]
    },
    {
      "cell_type": "code",
      "execution_count": 4,
      "metadata": {
        "id": "fnzR9NMtFiAz"
      },
      "outputs": [],
      "source": [
        "def inference_fn(question, context):\n",
        "    if question and context:\n",
        "        truncated_query = tokenizer.encode(\n",
        "            question,\n",
        "            add_special_tokens=False,\n",
        "            truncation=True,\n",
        "            max_length=args.max_query_length\n",
        "       )\n",
        "        inputs = tokenizer.encode_plus(\n",
        "            text=truncated_query,\n",
        "            text_pair=context,\n",
        "            truncation=\"only_second\",\n",
        "            padding=\"max_length\",\n",
        "            max_length=args.max_seq_length,\n",
        "            return_token_type_ids=True,\n",
        "        )\n",
        "        with torch.no_grad():\n",
        "            outputs = model(**{k: torch.tensor([v]) for k, v in inputs.items()})\n",
        "            start_pred = outputs.start_logits.argmax(dim=-1).item()\n",
        "            end_pred = outputs.end_logits.argmax(dim=-1).item()\n",
        "            pred_text = tokenizer.decode(inputs['input_ids'][start_pred:end_pred+1])\n",
        "    else:\n",
        "        pred_text = \"\"\n",
        "    return {\n",
        "        'question': question,\n",
        "        'context': context,\n",
        "        'answer': pred_text,\n",
        "    }"
      ]
    },
    {
      "cell_type": "code",
      "execution_count": 5,
      "metadata": {
        "id": "6KshHb4P_0wj"
      },
      "outputs": [
        {
          "data": {
            "text/plain": [
              "{'question': 'BERT는 어디서 개발했는가?',\n",
              " 'context': '반면에 BERT (Bidirectional Encoder Representations from Transformers)는 Google에서 개발한 언어 모델로, Transformer 아키텍처를 기반으로 합니다. GPT와는 달리 BERT는 왼쪽에서 오른쪽 방향뿐만 아니라 오른쪽에서 왼쪽 방향으로도 텍스트를 처리할 수 있는 양방향 모델입니다. BERT는 자연어 이해, 감정 분석 및 질문-답변과 같은 작업에 자주 사용됩니다.',\n",
              " 'answer': 'Google'}"
            ]
          },
          "execution_count": 5,
          "metadata": {},
          "output_type": "execute_result"
        }
      ],
      "source": [
        "inference_fn(question = \"BERT는 어디서 개발했는가?\", context = \"반면에 BERT (Bidirectional Encoder Representations from Transformers)는 Google에서 개발한 언어 모델로, Transformer 아키텍처를 기반으로 합니다. GPT와는 달리 BERT는 왼쪽에서 오른쪽 방향뿐만 아니라 오른쪽에서 왼쪽 방향으로도 텍스트를 처리할 수 있는 양방향 모델입니다. BERT는 자연어 이해, 감정 분석 및 질문-답변과 같은 작업에 자주 사용됩니다.\" )"
      ]
    },
    {
      "cell_type": "code",
      "execution_count": 6,
      "metadata": {},
      "outputs": [
        {
          "data": {
            "text/plain": [
              "{'question': '온라인 여행에는 어떤 한계가 있는가?',\n",
              " 'context': '올해는 코로나19로 인해 여행계획이 많이 무산되고 있습니다. 그러나 여행을 좋아하는 사람이라면 온라인 여행을 즐길 수 있는 방법들이 많이 생겨났습니다. 예를 들어, 가상현실 기술을 이용한 가상여행, 인터넷으로 실제 여행지의 모습을 볼 수 있는 웹캠 등이 있습니다. 이러한 기술들을 이용하여 우리는 집에서도 여행의 느낌을 즐길 수 있습니다. 또한, 온라인으로 예약을 하고 배송을 받을 수 있는 여행 상품도 많이 출시되었습니다. 이러한 상품들을 이용하여 우리는 집에서도 다양한 여행을 즐길 수 있습니다. 그러나 이러한 온라인 여행도 결국은 실제 여행만큼 완벽한 경험을 제공하지는 못한다는 한계가 있기 때문에, 우리는 이러한 온라인 여행을 보조적인 수단으로 활용하면서도 실제 여행의 가치와 중요성을 잊지 않아야 합니다.',\n",
              " 'answer': '완벽한 경험을 제공하지는 못한다는 한계가'}"
            ]
          },
          "execution_count": 6,
          "metadata": {},
          "output_type": "execute_result"
        }
      ],
      "source": [
        "inference_fn(question = \"온라인 여행에는 어떤 한계가 있는가?\", context = \"올해는 코로나19로 인해 여행계획이 많이 무산되고 있습니다. 그러나 여행을 좋아하는 사람이라면 온라인 여행을 즐길 수 있는 방법들이 많이 생겨났습니다. 예를 들어, 가상현실 기술을 이용한 가상여행, 인터넷으로 실제 여행지의 모습을 볼 수 있는 웹캠 등이 있습니다. 이러한 기술들을 이용하여 우리는 집에서도 여행의 느낌을 즐길 수 있습니다. 또한, 온라인으로 예약을 하고 배송을 받을 수 있는 여행 상품도 많이 출시되었습니다. 이러한 상품들을 이용하여 우리는 집에서도 다양한 여행을 즐길 수 있습니다. 그러나 이러한 온라인 여행도 결국은 실제 여행만큼 완벽한 경험을 제공하지는 못한다는 한계가 있기 때문에, 우리는 이러한 온라인 여행을 보조적인 수단으로 활용하면서도 실제 여행의 가치와 중요성을 잊지 않아야 합니다.\")"
      ]
    },
    {
      "cell_type": "code",
      "execution_count": null,
      "metadata": {},
      "outputs": [],
      "source": []
    }
  ],
  "metadata": {
    "colab": {
      "name": "qa-deploy-colab.ipynb",
      "provenance": []
    },
    "kernelspec": {
      "display_name": "Python 3",
      "name": "python3"
    },
    "language_info": {
      "codemirror_mode": {
        "name": "ipython",
        "version": 3
      },
      "file_extension": ".py",
      "mimetype": "text/x-python",
      "name": "python",
      "nbconvert_exporter": "python",
      "pygments_lexer": "ipython3",
      "version": "3.9.0"
    }
  },
  "nbformat": 4,
  "nbformat_minor": 0
}
