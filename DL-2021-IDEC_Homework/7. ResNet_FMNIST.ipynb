{
 "cells": [
  {
   "cell_type": "markdown",
   "source": [
    "## Lecture 7. ResNet-FMNIST \r\n",
    "  (1) Fashion MNIST 데이터를 처리하는 ResNet 모델을 만든다.\\\r\n",
    "  (2) 학습데이터에 대한 epoch에 따른 cross-entropy loss와 accuracy 그래프를 그린다.\\\r\n",
    "  (3) 테스트 데이터에 대한 인식률을 그린다,"
   ],
   "metadata": {}
  },
  {
   "cell_type": "markdown",
   "source": [
    "Step 0. "
   ],
   "metadata": {}
  },
  {
   "cell_type": "code",
   "execution_count": 9,
   "source": [
    "import torch\r\n",
    "from torch import nn\r\n",
    "from torch.utils.data import Dataset, DataLoader\r\n",
    "\r\n",
    "from torchvision import datasets\r\n",
    "from torchvision.transforms import ToTensor\r\n",
    "import matplotlib.pyplot as plt\r\n",
    "import torch.nn.functional as F\r\n",
    "\r\n",
    "import random\r\n",
    "import numpy as np\r\n",
    "\r\n",
    "from utilities import EarlyStopping"
   ],
   "outputs": [],
   "metadata": {}
  },
  {
   "cell_type": "code",
   "execution_count": 10,
   "source": [
    "L_R = 1e-3\r\n",
    "BATCH_SIZE = 100\r\n",
    "EPOCHS = 30"
   ],
   "outputs": [],
   "metadata": {}
  },
  {
   "cell_type": "markdown",
   "source": [
    "Step 1. Data"
   ],
   "metadata": {
    "id": "KfoNt8n57hr9"
   }
  },
  {
   "cell_type": "code",
   "execution_count": 11,
   "source": [
    "train_data = datasets.FashionMNIST(\r\n",
    "    root=\"F:\\Python_Codes\\Data_for_Practice\", \r\n",
    "    train=True, \r\n",
    "    download=True, \r\n",
    "    transform=ToTensor()\r\n",
    "    )\r\n",
    "\r\n",
    "\r\n",
    "\r\n",
    "test_data= datasets.FashionMNIST(\r\n",
    "    root=\"F:\\Python_Codes\\Data_for_Practice\", \r\n",
    "    train=False, \r\n",
    "    download=True, \r\n",
    "    transform=ToTensor()\r\n",
    "    )\r\n",
    "\r\n",
    "\r\n",
    "train_data, val_data=torch.utils.data.random_split(train_data, [50000,10000])\r\n",
    "\r\n",
    "print(test_data.data.size())"
   ],
   "outputs": [
    {
     "output_type": "stream",
     "name": "stdout",
     "text": [
      "torch.Size([10000, 28, 28])\n"
     ]
    }
   ],
   "metadata": {}
  },
  {
   "cell_type": "code",
   "execution_count": 12,
   "source": [
    "train_dataloader =DataLoader(train_data, batch_size=BATCH_SIZE, shuffle=True)\r\n",
    "val_dataloader =DataLoader(val_data, batch_size=BATCH_SIZE, shuffle=False)\r\n",
    "test_dataloader =DataLoader(test_data, batch_size=BATCH_SIZE, shuffle=False)"
   ],
   "outputs": [],
   "metadata": {}
  },
  {
   "cell_type": "markdown",
   "source": [
    "2. Model"
   ],
   "metadata": {}
  },
  {
   "cell_type": "code",
   "execution_count": null,
   "source": [
    "class  BasicBlock(nn.Module):\r\n",
    "    def __init__(self, in_planes, planes, stride=1)"
   ],
   "outputs": [],
   "metadata": {}
  }
 ],
 "metadata": {
  "orig_nbformat": 4,
  "language_info": {
   "name": "python",
   "version": "3.8.10",
   "mimetype": "text/x-python",
   "codemirror_mode": {
    "name": "ipython",
    "version": 3
   },
   "pygments_lexer": "ipython3",
   "nbconvert_exporter": "python",
   "file_extension": ".py"
  },
  "kernelspec": {
   "name": "python3",
   "display_name": "Python 3.8.10 64-bit ('pytorch_env': conda)"
  },
  "interpreter": {
   "hash": "dca4efdd400e53e6663797bbd1b46cf726b4dffb9a4cd6e80b88fc0d122f2781"
  }
 },
 "nbformat": 4,
 "nbformat_minor": 2
}